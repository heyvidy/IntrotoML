{
 "cells": [
  {
   "cell_type": "code",
   "execution_count": 1,
   "metadata": {
    "collapsed": true
   },
   "outputs": [],
   "source": [
    "import pandas as pd\n",
    "import numpy as np\n",
    "import matplotlib.pyplot as plt\n",
    "from sklearn.datasets import load_wine\n",
    "from sklearn.model_selection import train_test_split\n",
    "\n",
    "\n",
    "%matplotlib inline"
   ]
  },
  {
   "cell_type": "code",
   "execution_count": 2,
   "metadata": {
    "collapsed": true
   },
   "outputs": [],
   "source": [
    "k = 3\n",
    "tol = 0.001\n",
    "max_iter = 300"
   ]
  },
  {
   "cell_type": "code",
   "execution_count": 3,
   "metadata": {
    "collapsed": true
   },
   "outputs": [],
   "source": [
    "colors = 10*[\"g\",\"r\",\"c\",\"b\",\"k\",'y']"
   ]
  },
  {
   "cell_type": "code",
   "execution_count": 15,
   "metadata": {},
   "outputs": [],
   "source": [
    "def fit(data,k,max_iter,tol):\n",
    "\n",
    "    centroids = {}\n",
    "    \n",
    "    for i in range(k):\n",
    "        centroids[i] = data[i]\n",
    "        \n",
    "    for i in range(max_iter):\n",
    "        classifications = {}\n",
    "\n",
    "        for i in range(k):\n",
    "            classifications[i] = []\n",
    "        for featureset in data:\n",
    "            distances = [np.linalg.norm(featureset-centroids[centroid]) for centroid in centroids]\n",
    "            classification = distances.index(min(distances))\n",
    "            classifications[classification].append(featureset)\n",
    "        prev_centroids = dict(centroids)\n",
    "        \n",
    "        for classification in classifications:\n",
    "            centroids[classification] = np.average(classifications[classification],axis=0)\n",
    "            \n",
    "        optimized = True\n",
    "\n",
    "        for c in centroids:\n",
    "            original_centroid = prev_centroids[c]\n",
    "            current_centroid = centroids[c]\n",
    "            if np.sum((current_centroid-original_centroid)/original_centroid*100.0) > tol:\n",
    "                print(np.sum((current_centroid-original_centroid)/original_centroid*100.0))\n",
    "                optimized = False\n",
    "\n",
    "        if optimized:\n",
    "            break\n",
    "    return centroids, classifications\n",
    "\n",
    "def predict(data,centroids):\n",
    "    distances = [np.linalg.norm(data-centroids[centroid]) for centroid in centroids]\n",
    "    classification = distances.index(min(distances))\n",
    "    return classification  \n",
    "\n",
    "def accuracy(xt,yt,cents):\n",
    "    correct = 0\n",
    "    for i in range(len(xt)):\n",
    "\n",
    "        predict_me = np.array(xt[i].astype(float))\n",
    "        predict_me = predict_me.reshape(-1, len(predict_me))\n",
    "        prediction = predict(predict_me,cents)\n",
    "        if prediction == yt[i]:\n",
    "            correct += 1\n",
    "\n",
    "    print((correct*100)/len(yt))"
   ]
  },
  {
   "cell_type": "code",
   "execution_count": 16,
   "metadata": {
    "collapsed": true
   },
   "outputs": [],
   "source": [
    "wine = load_wine()\n",
    "X = pd.DataFrame(wine.data, columns=wine.feature_names)\n",
    "Y = pd.DataFrame(wine.target, columns=['target'])"
   ]
  },
  {
   "cell_type": "code",
   "execution_count": 17,
   "metadata": {
    "collapsed": true
   },
   "outputs": [],
   "source": [
    "X = (X-X.min()) / (X.max()-X.min())"
   ]
  },
  {
   "cell_type": "code",
   "execution_count": 18,
   "metadata": {},
   "outputs": [],
   "source": [
    "xtrain, xtest, ytrain, ytest = train_test_split(X,Y, test_size=0.3)"
   ]
  },
  {
   "cell_type": "code",
   "execution_count": 19,
   "metadata": {},
   "outputs": [],
   "source": [
    "f1 = 'hue'\n",
    "f2 = 'proline'\n",
    "basex = np.array(xtrain[[f1, f2]])\n",
    "basey = np.array(ytrain['target'])\n",
    "\n",
    "xtest = np.array(xtest[[f1, f2]])\n",
    "ytest = np.array(ytest['target'])"
   ]
  },
  {
   "cell_type": "code",
   "execution_count": 20,
   "metadata": {},
   "outputs": [],
   "source": [
    "x = pd.DataFrame(basex)\n",
    "y = basey"
   ]
  },
  {
   "cell_type": "code",
   "execution_count": 21,
   "metadata": {},
   "outputs": [
    {
     "name": "stdout",
     "output_type": "stream",
     "text": [
      "190.54998032270737\n",
      "28.58965080162467\n",
      "4.436953868289818\n",
      "4.04447136591268\n",
      "1.6542169620206175\n",
      "3.9505153052040556\n",
      "1.6562214648031337\n"
     ]
    }
   ],
   "source": [
    "centroids, classifications = fit(basex,k,max_iter,tol)"
   ]
  },
  {
   "cell_type": "code",
   "execution_count": 22,
   "metadata": {},
   "outputs": [
    {
     "data": {
      "image/png": "[encoded data removed]",
      "text/plain": [
       "<matplotlib.figure.Figure at 0x272236fba20>"
      ]
     },
     "metadata": {},
     "output_type": "display_data"
    }
   ],
   "source": [
    "for centroid in centroids:\n",
    "    plt.scatter(centroids[centroid][0], centroids[centroid][1], marker='o', color='k', s=50)\n",
    "\n",
    "for classification in classifications:\n",
    "    color = colors[classification]\n",
    "    for featureset in classifications[classification]:\n",
    "        plt.scatter(featureset[0], featureset[1], marker='.', color=color, s=50)\n",
    "\n",
    "# xtest = np.array([[1,3],\n",
    "#                      [8,9],\n",
    "#                      [0,3],\n",
    "#                      [5,4],\n",
    "#                      [6,4]])\n",
    "\n",
    "for unknown in xtest:\n",
    "    classification = predict(unknown,centroids)\n",
    "    plt.scatter(unknown[0], unknown[1], marker='*', color=colors[classification], s=50)"
   ]
  },
  {
   "cell_type": "code",
   "execution_count": 23,
   "metadata": {},
   "outputs": [
    {
     "data": {
      "text/plain": [
       "<matplotlib.collections.PathCollection at 0x272237468d0>"
      ]
     },
     "execution_count": 23,
     "metadata": {},
     "output_type": "execute_result"
    },
    {
     "data": {
      "image/png": "[encoded data removed]",
      "text/plain": [
       "<matplotlib.figure.Figure at 0x27222e60438>"
      ]
     },
     "metadata": {},
     "output_type": "display_data"
    }
   ],
   "source": [
    "plt.scatter(x.iloc[:,0], x.iloc[:,1], c=y, s=15)"
   ]
  },
  {
   "cell_type": "code",
   "execution_count": 24,
   "metadata": {},
   "outputs": [
    {
     "name": "stdout",
     "output_type": "stream",
     "text": [
      "30.64516129032258\n"
     ]
    }
   ],
   "source": [
    "accuracy(basex,basey,centroids)"
   ]
  },
  {
   "cell_type": "code",
   "execution_count": 25,
   "metadata": {},
   "outputs": [
    {
     "name": "stdout",
     "output_type": "stream",
     "text": [
      "33.333333333333336\n"
     ]
    }
   ],
   "source": [
    "accuracy(xtest,ytest,centroids)"
   ]
  },
  {
   "cell_type": "code",
   "execution_count": null,
   "metadata": {
    "collapsed": true
   },
   "outputs": [],
   "source": []
  }
 ],
 "metadata": {
  "kernelspec": {
   "display_name": "Python 3",
   "language": "python",
   "name": "python3"
  },
  "language_info": {
   "codemirror_mode": {
    "name": "ipython",
    "version": 3
   },
   "file_extension": ".py",
   "mimetype": "text/x-python",
   "name": "python",
   "nbconvert_exporter": "python",
   "pygments_lexer": "ipython3",
   "version": "3.6.3"
  }
 },
 "nbformat": 4,
 "nbformat_minor": 2
}
